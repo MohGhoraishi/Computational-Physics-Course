{
 "cells": [
  {
   "attachments": {},
   "cell_type": "markdown",
   "metadata": {},
   "source": [
    "# 7.2 (center of mass of a sphere)"
   ]
  },
  {
   "cell_type": "code",
   "execution_count": null,
   "metadata": {},
   "outputs": [],
   "source": [
    "using LinearAlgebra\n",
    "using Plots\n",
    "using Colors\n",
    "using Statistics\n",
    "using Polynomials\n",
    "gr()"
   ]
  },
  {
   "attachments": {},
   "cell_type": "markdown",
   "metadata": {},
   "source": [
    "We can solve this problem using different differential elements, but since this is an excersize on multivariable integrals, we will use the spherical coordinates and random values for $r$, $\\phi$ and $\\theta$ and $\\rho(r, \\theta) = \\frac{\\rho_{max}}{2}(\\frac{3}{2} + \\frac{r \\cos(\\theta)}{2 R})$ where $\\rho_{max}$ is the density at the highest point of the sphere and $R$ is the radius of the sphere. We could have taken advantage of the cylindrical symmetries of the problem to reduce the problem to a single variable integral over $z$ but that is not the focus for now."
   ]
  },
  {
   "attachments": {},
   "cell_type": "markdown",
   "metadata": {},
   "source": [
    "Therefore the Integral we should take to calculate the height of the center of mass from the center of the sphere is as follows:<br>\n",
    "$z_{cm} = \\frac{1}{M} \\int_0^R \\int_0^{2 \\pi} \\int_0^\\pi r^3 \\cos(\\theta) \\frac{\\rho_{max}}{2}(\\frac{3}{2} + \\frac{r \\cos(\\theta)}{2 R})dr \\sin(\\theta) d\\phi d\\theta $ <br>\n",
    "where <br>\n",
    "$M = \\int_0^R \\int_0^{2 \\pi} \\int_0^\\pi \\frac{\\rho_{max}}{2}(\\frac{3}{2} + \\frac{r \\cos(\\theta)}{2 R}) r^2 dr \\sin(\\theta) d\\phi d\\theta $"
   ]
  },
  {
   "attachments": {},
   "cell_type": "markdown",
   "metadata": {},
   "source": [
    "We won't define a seperate function this time but we will use the same function as the simpleIntegrate function used in the previous problem to calculate this integral."
   ]
  },
  {
   "attachments": {},
   "cell_type": "markdown",
   "metadata": {},
   "source": [
    "Our ranged random generator function:"
   ]
  },
  {
   "cell_type": "code",
   "execution_count": null,
   "metadata": {},
   "outputs": [],
   "source": [
    "function randRanged(lowRange, upRange)\n",
    "    y = lowRange + (upRange - lowRange) * rand()\n",
    "    return y\n",
    "end"
   ]
  },
  {
   "attachments": {},
   "cell_type": "markdown",
   "metadata": {},
   "source": [
    "Integration parameters: (for simplicity $\\rho_{max}, R = 1$ and the integral over $\\phi$  is already taken)"
   ]
  },
  {
   "cell_type": "code",
   "execution_count": 37,
   "metadata": {},
   "outputs": [
    {
     "name": "stdout",
     "output_type": "stream",
     "text": [
      "The center of mass is 0.06655744911620101 units above the center\n"
     ]
    }
   ],
   "source": [
    "rhoMax = 1\n",
    "R = 1\n",
    "fz(r, theta) = 2 * pi * r^3 * sin(theta) * cos(theta) * rhoMax / 2 * (3 / 2 + r * cos(theta) / 2 /R)  #function that we want to integrate for z\n",
    "fm(r, theta) = 2 * pi * r^2 * sin(theta) * rhoMax / 2 * (3 / 2 + r * cos(theta) / 2 /R)    #function that we want to integrate for M\n",
    "lowerBoundR = 0 #lower boundary for r\n",
    "upperBoundR = R #upper boundary for r\n",
    "lowerBoundTheta = 0 #lower boundary for theta\n",
    "upperBoundTheta = pi #upper boundary for theta\n",
    "intRes = 10000000 #resolution of the integral (number of samples taken)\n",
    "\n",
    "#Now for the Integration\n",
    "fzSamples = Float64[]\n",
    "for i in 1:intRes\n",
    "    push!(fzSamples, fz(randRanged(lowerBoundR, upperBoundR), randRanged(lowerBoundTheta, upperBoundTheta)))\n",
    "end\n",
    "Iz = (upperBoundR - lowerBoundR) * (upperBoundTheta - lowerBoundTheta) * mean(fzSamples)\n",
    "\n",
    "fmSamples = Float64[]\n",
    "for i in 1:intRes\n",
    "    push!(fmSamples, fm(randRanged(lowerBoundR, upperBoundR), randRanged(lowerBoundTheta, upperBoundTheta)))\n",
    "end\n",
    "Im = (upperBoundR - lowerBoundR) * (upperBoundTheta - lowerBoundTheta) * mean(fmSamples)\n",
    "\n",
    "zCm = Iz / Im\n",
    "println(\"The center of mass is $zCm units above the center\")"
   ]
  },
  {
   "attachments": {},
   "cell_type": "markdown",
   "metadata": {},
   "source": [
    "So the center of mass is approximately 0.06656 units above the center of the sphere for $\\rho_{max}, R = 1$."
   ]
  }
 ],
 "metadata": {
  "kernelspec": {
   "display_name": "Julia 1.7.2",
   "language": "julia",
   "name": "julia-1.7"
  },
  "language_info": {
   "file_extension": ".jl",
   "mimetype": "application/julia",
   "name": "julia",
   "version": "1.7.2"
  },
  "orig_nbformat": 4
 },
 "nbformat": 4,
 "nbformat_minor": 2
}
